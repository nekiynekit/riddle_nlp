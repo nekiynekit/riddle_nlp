{
 "cells": [
  {
   "cell_type": "code",
   "execution_count": 15,
   "metadata": {},
   "outputs": [],
   "source": [
    "import pandas as pd\n",
    "\n",
    "from matplotlib import pyplot as plt"
   ]
  },
  {
   "cell_type": "code",
   "execution_count": 16,
   "metadata": {},
   "outputs": [
    {
     "name": "stdout",
     "output_type": "stream",
     "text": [
      "   Unnamed: 0                                             riddle answer\n",
      "0         506  Я - травянистое растение\\nС цветком сиреневого...   Ирис\n",
      "1         394  Не моторы, а шумят,\\nНе пилоты, а летят,\\nНе з...    Оса\n",
      "2         210  Что за зверь,\\nСкажите, братцы,\\nМожет сам в с...  норка\n",
      "3         247  Даже по железной крыше\\nХодит тихо, тише мыши....  Кошка\n",
      "4         437  Кто нежнее всех на свете? \\nКто готовит нам об...   мама\n"
     ]
    }
   ],
   "source": [
    "dataset = pd.read_csv('puzzles_dataset.csv')\n",
    "dataset = dataset.sample(frac=1, random_state=42).reset_index(drop=True)\n",
    "print(dataset.head())"
   ]
  },
  {
   "cell_type": "code",
   "execution_count": 21,
   "metadata": {},
   "outputs": [
    {
     "name": "stdout",
     "output_type": "stream",
     "text": [
      "Я - травянистое растение\n",
      "С цветком сиреневого цвета.\n",
      "Но переставьте ударение,\n",
      "И превращаюсь я в конфету.\n"
     ]
    }
   ],
   "source": [
    "print(dataset['riddle'][0])"
   ]
  },
  {
   "cell_type": "code",
   "execution_count": 24,
   "metadata": {},
   "outputs": [
    {
     "data": {
      "text/html": [
       "<div>\n",
       "<style scoped>\n",
       "    .dataframe tbody tr th:only-of-type {\n",
       "        vertical-align: middle;\n",
       "    }\n",
       "\n",
       "    .dataframe tbody tr th {\n",
       "        vertical-align: top;\n",
       "    }\n",
       "\n",
       "    .dataframe thead th {\n",
       "        text-align: right;\n",
       "    }\n",
       "</style>\n",
       "<table border=\"1\" class=\"dataframe\">\n",
       "  <thead>\n",
       "    <tr style=\"text-align: right;\">\n",
       "      <th></th>\n",
       "      <th>Unnamed: 0</th>\n",
       "      <th>riddle</th>\n",
       "      <th>answer</th>\n",
       "    </tr>\n",
       "  </thead>\n",
       "  <tbody>\n",
       "    <tr>\n",
       "      <th>0</th>\n",
       "      <td>0</td>\n",
       "      <td>Без крыльев летят,\\nБез ног бегут,\\nБез паруса...</td>\n",
       "      <td>Солнце</td>\n",
       "    </tr>\n",
       "    <tr>\n",
       "      <th>1</th>\n",
       "      <td>1</td>\n",
       "      <td>Без рук, без ног,\\nА ворота открывает.</td>\n",
       "      <td>NaN</td>\n",
       "    </tr>\n",
       "    <tr>\n",
       "      <th>2</th>\n",
       "      <td>2</td>\n",
       "      <td>Бела — не снег,\\nЗелена — не луг,\\nКучерява — ...</td>\n",
       "      <td>NaN</td>\n",
       "    </tr>\n",
       "    <tr>\n",
       "      <th>3</th>\n",
       "      <td>3</td>\n",
       "      <td>Белые горошки на зелёной ножке.</td>\n",
       "      <td>NaN</td>\n",
       "    </tr>\n",
       "    <tr>\n",
       "      <th>4</th>\n",
       "      <td>4</td>\n",
       "      <td>В золотой клубочек\\nСпрятался дубочек.</td>\n",
       "      <td>NaN</td>\n",
       "    </tr>\n",
       "    <tr>\n",
       "      <th>...</th>\n",
       "      <td>...</td>\n",
       "      <td>...</td>\n",
       "      <td>...</td>\n",
       "    </tr>\n",
       "    <tr>\n",
       "      <th>707</th>\n",
       "      <td>707</td>\n",
       "      <td>NaN</td>\n",
       "      <td>NaN</td>\n",
       "    </tr>\n",
       "    <tr>\n",
       "      <th>708</th>\n",
       "      <td>708</td>\n",
       "      <td>NaN</td>\n",
       "      <td>NaN</td>\n",
       "    </tr>\n",
       "    <tr>\n",
       "      <th>709</th>\n",
       "      <td>709</td>\n",
       "      <td>NaN</td>\n",
       "      <td>NaN</td>\n",
       "    </tr>\n",
       "    <tr>\n",
       "      <th>710</th>\n",
       "      <td>710</td>\n",
       "      <td>NaN</td>\n",
       "      <td>NaN</td>\n",
       "    </tr>\n",
       "    <tr>\n",
       "      <th>711</th>\n",
       "      <td>711</td>\n",
       "      <td>NaN</td>\n",
       "      <td>NaN</td>\n",
       "    </tr>\n",
       "  </tbody>\n",
       "</table>\n",
       "<p>712 rows × 3 columns</p>\n",
       "</div>"
      ],
      "text/plain": [
       "     Unnamed: 0                                             riddle  answer\n",
       "0             0  Без крыльев летят,\\nБез ног бегут,\\nБез паруса...  Солнце\n",
       "1             1             Без рук, без ног,\\nА ворота открывает.     NaN\n",
       "2             2  Бела — не снег,\\nЗелена — не луг,\\nКучерява — ...     NaN\n",
       "3             3                    Белые горошки на зелёной ножке.     NaN\n",
       "4             4             В золотой клубочек\\nСпрятался дубочек.     NaN\n",
       "..          ...                                                ...     ...\n",
       "707         707                                                NaN     NaN\n",
       "708         708                                                NaN     NaN\n",
       "709         709                                                NaN     NaN\n",
       "710         710                                                NaN     NaN\n",
       "711         711                                                NaN     NaN\n",
       "\n",
       "[712 rows x 3 columns]"
      ]
     },
     "execution_count": 24,
     "metadata": {},
     "output_type": "execute_result"
    }
   ],
   "source": [
    "dataset.mode(axis=0)"
   ]
  },
  {
   "cell_type": "code",
   "execution_count": 26,
   "metadata": {},
   "outputs": [
    {
     "name": "stdout",
     "output_type": "stream",
     "text": [
      "323\n",
      "21\n",
      "87.12078651685393\n"
     ]
    }
   ],
   "source": [
    "print(dataset['riddle'].str.len().max())\n",
    "print(dataset['riddle'].str.len().min())\n",
    "print(dataset['riddle'].str.len().mean())"
   ]
  }
 ],
 "metadata": {
  "kernelspec": {
   "display_name": "Python 3.9.7 ('riddlenv': venv)",
   "language": "python",
   "name": "python3"
  },
  "language_info": {
   "codemirror_mode": {
    "name": "ipython",
    "version": 3
   },
   "file_extension": ".py",
   "mimetype": "text/x-python",
   "name": "python",
   "nbconvert_exporter": "python",
   "pygments_lexer": "ipython3",
   "version": "3.9.7"
  },
  "orig_nbformat": 4,
  "vscode": {
   "interpreter": {
    "hash": "e33cd75d4db501a44757380ae00ac03c65894735cef39e492251c294a684352f"
   }
  }
 },
 "nbformat": 4,
 "nbformat_minor": 2
}
